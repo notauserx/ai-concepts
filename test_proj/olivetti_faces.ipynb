{
 "cells": [
  {
   "cell_type": "code",
   "execution_count": null,
   "id": "e3d1591a",
   "metadata": {},
   "outputs": [
    {
     "name": "stdout",
     "output_type": "stream",
     "text": [
      "downloading Olivetti faces from https://ndownloader.figshare.com/files/5976027 to C:\\Users\\pc\\scikit_learn_data\n"
     ]
    }
   ],
   "source": [
    "# Imports\n",
    "from sklearn.datasets import fetch_olivetti_faces\n",
    "import numpy as np\n",
    "\n",
    "# Download Olivetti faces dataset\n",
    "olivetti = fetch_olivetti_faces()\n",
    "x = olivetti.images\n",
    "y = olivetti.target\n",
    "\n",
    "# Print info on shapes and reshape where necessary\n",
    "print(\"Original x shape:\", x.shape)\n",
    "X = x.reshape((400, 4096))\n",
    "print(\"New x shape:\", X.shape)\n",
    "print(\"y shape\", y.shape)\n",
    "\n",
    "# Save the numpy arrays\n",
    "np.savetxt(\"C://olivetti_X.csv\", X, delimiter = \",\")\n",
    "np.savetxt(\"C://olivetti_y.csv\", y, delimiter = \",\", fmt = '%d')\n",
    "\n",
    "print(\"\\nDownloading and reshaping done!\")\n",
    "\n",
    "################################################################################\n",
    "#                               OUTPUT\n",
    "################################################################################\n",
    "#\n",
    "# Original x shape: (400, 64, 64)\n",
    "# New x shape: (400, 4096)\n",
    "# y shape (400,)\n",
    "#\n",
    "# Downloading and reshaping done!"
   ]
  },
  {
   "cell_type": "code",
   "execution_count": null,
   "id": "b862339f",
   "metadata": {},
   "outputs": [],
   "source": []
  }
 ],
 "metadata": {
  "kernelspec": {
   "display_name": "Python 3 (ipykernel)",
   "language": "python",
   "name": "python3"
  },
  "language_info": {
   "codemirror_mode": {
    "name": "ipython",
    "version": 3
   },
   "file_extension": ".py",
   "mimetype": "text/x-python",
   "name": "python",
   "nbconvert_exporter": "python",
   "pygments_lexer": "ipython3",
   "version": "3.11.3"
  }
 },
 "nbformat": 4,
 "nbformat_minor": 5
}
