{
 "cells": [
  {
   "cell_type": "code",
   "execution_count": 3,
   "id": "7e86aa46",
   "metadata": {},
   "outputs": [
    {
     "name": "stdout",
     "output_type": "stream",
     "text": [
      "[1 1 1 0 0 0]\n",
      "[[10.  2.]\n",
      " [ 1.  2.]]\n",
      "[0]\n"
     ]
    },
    {
     "name": "stderr",
     "output_type": "stream",
     "text": [
      "C:\\Work files\\course content\\test_proj\\venv\\Lib\\site-packages\\sklearn\\cluster\\_kmeans.py:870: FutureWarning: The default value of `n_init` will change from 10 to 'auto' in 1.4. Set the value of `n_init` explicitly to suppress the warning\n",
      "  warnings.warn(\n"
     ]
    }
   ],
   "source": [
    "from sklearn.cluster import KMeans\n",
    "import numpy as np\n",
    "X = np.array([\n",
    "    [1, 2], \n",
    "    [1, 4], \n",
    "    [1, 0],\n",
    "    [10, 2],\n",
    "    [9, 4],\n",
    "    [11, 0]])\n",
    "\n",
    "kmeans = KMeans(n_clusters=2, random_state=0).fit(X)\n",
    "\n",
    "print(kmeans.labels_)\n",
    "\n",
    "print(kmeans.cluster_centers_)\n",
    "\n",
    "print(kmeans.predict([[12, 3]]))"
   ]
  },
  {
   "cell_type": "code",
   "execution_count": null,
   "id": "a69259e7",
   "metadata": {},
   "outputs": [],
   "source": [
    "# Modify the Python program from Example above so that it uses Scikit-Learn’s function,\n",
    "# sklearn.datasets.make_blobs(), to generate sample data points for K-means clustering"
   ]
  }
 ],
 "metadata": {
  "kernelspec": {
   "display_name": "Python 3 (ipykernel)",
   "language": "python",
   "name": "python3"
  },
  "language_info": {
   "codemirror_mode": {
    "name": "ipython",
    "version": 3
   },
   "file_extension": ".py",
   "mimetype": "text/x-python",
   "name": "python",
   "nbconvert_exporter": "python",
   "pygments_lexer": "ipython3",
   "version": "3.11.3"
  }
 },
 "nbformat": 4,
 "nbformat_minor": 5
}
