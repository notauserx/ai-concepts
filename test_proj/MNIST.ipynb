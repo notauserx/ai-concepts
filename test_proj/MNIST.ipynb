{
 "cells": [
  {
   "cell_type": "code",
   "execution_count": 1,
   "id": "57720337",
   "metadata": {},
   "outputs": [
    {
     "name": "stdout",
     "output_type": "stream",
     "text": [
      "A local file was found, but it seems to be incomplete or outdated because the auto file hash does not match the original value of 731c5ac602752760c8e48fbffcf8c3b850d9dc2a2aedcf2cc48468fc17b673d1 so we will re-download the data.\n",
      "Downloading data from https://storage.googleapis.com/tensorflow/tf-keras-datasets/mnist.npz\n",
      "11490434/11490434 [==============================] - 3s 0us/step\n"
     ]
    },
    {
     "data": {
      "image/png": "[encoded data removed]",
      "text/plain": [
       "<Figure size 640x480 with 4 Axes>"
      ]
     },
     "metadata": {},
     "output_type": "display_data"
    }
   ],
   "source": [
    "from keras.datasets import mnist\n",
    "import matplotlib.pyplot as plt\n",
    "# load data\n",
    "(X_train, y_train), (X_test, y_test) = mnist.load_data()\n",
    "# plot 4 images as gray scale\n",
    "plt.subplot(141)\n",
    "plt.imshow(X_train[0])\n",
    "plt.subplot(142)\n",
    "plt.imshow(X_train[1])\n",
    "plt.subplot(143)\n",
    "plt.imshow(X_train[2])\n",
    "plt.subplot(144)\n",
    "plt.imshow(X_train[3])\n",
    "plt.show()"
   ]
  },
  {
   "cell_type": "code",
   "execution_count": 2,
   "id": "9f87fa2a",
   "metadata": {},
   "outputs": [
    {
     "data": {
      "image/png": "[encoded data removed]",
      "text/plain": [
       "<Figure size 640x480 with 4 Axes>"
      ]
     },
     "metadata": {},
     "output_type": "display_data"
    },
    {
     "name": "stdout",
     "output_type": "stream",
     "text": [
      "Epoch 1/10\n",
      "300/300 [==============================] - 16s 49ms/step - loss: 0.2486 - accuracy: 0.9280 - val_loss: 0.0764 - val_accuracy: 0.9774\n",
      "Epoch 2/10\n",
      "300/300 [==============================] - 14s 47ms/step - loss: 0.0760 - accuracy: 0.9772 - val_loss: 0.0464 - val_accuracy: 0.9857\n",
      "Epoch 3/10\n",
      "300/300 [==============================] - 15s 50ms/step - loss: 0.0527 - accuracy: 0.9846 - val_loss: 0.0420 - val_accuracy: 0.9865\n",
      "Epoch 4/10\n",
      "300/300 [==============================] - 15s 49ms/step - loss: 0.0414 - accuracy: 0.9876 - val_loss: 0.0363 - val_accuracy: 0.9877\n",
      "Epoch 5/10\n",
      "300/300 [==============================] - 14s 48ms/step - loss: 0.0339 - accuracy: 0.9896 - val_loss: 0.0381 - val_accuracy: 0.9882\n",
      "Epoch 6/10\n",
      "300/300 [==============================] - 14s 48ms/step - loss: 0.0274 - accuracy: 0.9913 - val_loss: 0.0309 - val_accuracy: 0.9907\n",
      "Epoch 7/10\n",
      "300/300 [==============================] - 14s 47ms/step - loss: 0.0222 - accuracy: 0.9930 - val_loss: 0.0313 - val_accuracy: 0.9894\n",
      "Epoch 8/10\n",
      "300/300 [==============================] - 14s 47ms/step - loss: 0.0191 - accuracy: 0.9942 - val_loss: 0.0397 - val_accuracy: 0.9870\n",
      "Epoch 9/10\n",
      "300/300 [==============================] - 14s 46ms/step - loss: 0.0167 - accuracy: 0.9945 - val_loss: 0.0300 - val_accuracy: 0.9900\n",
      "Epoch 10/10\n",
      "300/300 [==============================] - 14s 46ms/step - loss: 0.0139 - accuracy: 0.9953 - val_loss: 0.0339 - val_accuracy: 0.9893\n",
      "CNN Error: 1.07%\n"
     ]
    }
   ],
   "source": [
    "# Simple CNN for the MNIST Dataset\n",
    "from keras.datasets import mnist\n",
    "from keras.models import Sequential\n",
    "from keras.layers import Dense, Dropout, Flatten\n",
    "from keras.layers.convolutional import Conv2D, MaxPooling2D\n",
    "from keras.utils import np_utils\n",
    "# load data\n",
    "(X_train, y_train), (X_test, y_test) = mnist.load_data()\n",
    "# plot 4 images as gray scale\n",
    "plt.subplot(141)\n",
    "plt.imshow(X_train[0])\n",
    "plt.subplot(142)\n",
    "plt.imshow(X_train[1])\n",
    "plt.subplot(143)\n",
    "plt.imshow(X_train[2])\n",
    "plt.subplot(144)\n",
    "plt.imshow(X_train[3])\n",
    "plt.show()\n",
    "# reshape to be [samples][width][height][channels]\n",
    "X_train = X_train.reshape((X_train.shape[0], 28, 28, 1)).astype('float32')\n",
    "X_test = X_test.reshape((X_test.shape[0], 28, 28, 1)).astype('float32')\n",
    "\n",
    "\n",
    "# normalize inputs from 0-255 to 0-1\n",
    "X_train = X_train / 255\n",
    "X_test = X_test / 255\n",
    "\n",
    "# one hot encode outputs\n",
    "\n",
    "y_train = np_utils.to_categorical(y_train)\n",
    "y_test = np_utils.to_categorical(y_test)\n",
    "num_classes = y_test.shape[1]\n",
    "\n",
    "# Create model\n",
    "model = Sequential()\n",
    "model.add(Conv2D(32, (5, 5), input_shape=(28, 28, 1), activation='relu'))\n",
    "model.add(MaxPooling2D())\n",
    "model.add(Dropout(0.2))\n",
    "model.add(Flatten())\n",
    "model.add(Dense(128, activation='relu'))\n",
    "model.add(Dense(num_classes, activation='softmax'))\n",
    "# Compile model\n",
    "\n",
    "model.compile(loss='categorical_crossentropy', optimizer='adam', metrics=['accuracy'])\n",
    "\n",
    "# Fit the model\n",
    "model.fit(X_train, y_train, validation_data=(X_test, y_test), epochs=10, batch_size=200)\n",
    "\n",
    "# Evaluation of the model\n",
    "scores = model.evaluate(X_test, y_test, verbose=0)\n",
    "print(\"CNN Error: %.2f%%\" % (100-scores[1]*100))\n",
    "\n",
    "# Modify the Python program from Example, change the kernel size of 32 to 64 in the\n",
    "# Conv2D layer, and compare their performances. Change the filter size (5,5) to (3,3) and\n",
    "# compare the performances."
   ]
  },
  {
   "cell_type": "code",
   "execution_count": null,
   "id": "34ffc67c",
   "metadata": {},
   "outputs": [],
   "source": []
  }
 ],
 "metadata": {
  "kernelspec": {
   "display_name": "Python 3 (ipykernel)",
   "language": "python",
   "name": "python3"
  },
  "language_info": {
   "codemirror_mode": {
    "name": "ipython",
    "version": 3
   },
   "file_extension": ".py",
   "mimetype": "text/x-python",
   "name": "python",
   "nbconvert_exporter": "python",
   "pygments_lexer": "ipython3",
   "version": "3.11.3"
  }
 },
 "nbformat": 4,
 "nbformat_minor": 5
}
