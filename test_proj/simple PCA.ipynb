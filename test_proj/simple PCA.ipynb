{
 "cells": [
  {
   "cell_type": "code",
   "execution_count": 1,
   "id": "154df3d3",
   "metadata": {},
   "outputs": [
    {
     "name": "stdout",
     "output_type": "stream",
     "text": [
      "[[-5.19615242e+00  4.44089210e-16  1.11022302e-16]\n",
      " [ 0.00000000e+00  0.00000000e+00  0.00000000e+00]\n",
      " [ 5.19615242e+00 -4.44089210e-16 -1.11022302e-16]]\n"
     ]
    }
   ],
   "source": [
    "import numpy as np\n",
    "\n",
    "# define the 3x3 matrix\n",
    "A = np.array([[1, 2, 3], [4, 5, 6], [7, 8, 9]])\n",
    "\n",
    "# calculate the mean of the columns\n",
    "mean_cols = np.mean(A, axis=0)\n",
    "\n",
    "# subtract the mean from the original matrix to get the centered matrix\n",
    "centered_matrix = A - mean_cols\n",
    "\n",
    "# calculate the covariance matrix of the centered matrix\n",
    "cov_matrix = np.cov(centered_matrix, rowvar=False)\n",
    "\n",
    "# calculate the eigenvectors and eigenvalues of the covariance matrix\n",
    "eigenvalues, eigenvectors = np.linalg.eig(cov_matrix)\n",
    "\n",
    "# sort the eigenvectors in descending order of eigenvalues\n",
    "idx = eigenvalues.argsort()[::-1]\n",
    "eigenvectors = eigenvectors[:,idx]\n",
    "\n",
    "# transform the centered matrix using the eigenvectors to get the PCA scores\n",
    "pca_scores = np.dot(centered_matrix, eigenvectors)\n",
    "\n",
    "# print the PCA scores\n",
    "print(pca_scores)\n"
   ]
  },
  {
   "cell_type": "code",
   "execution_count": null,
   "id": "6b1ff626",
   "metadata": {},
   "outputs": [],
   "source": []
  }
 ],
 "metadata": {
  "kernelspec": {
   "display_name": "Python 3 (ipykernel)",
   "language": "python",
   "name": "python3"
  },
  "language_info": {
   "codemirror_mode": {
    "name": "ipython",
    "version": 3
   },
   "file_extension": ".py",
   "mimetype": "text/x-python",
   "name": "python",
   "nbconvert_exporter": "python",
   "pygments_lexer": "ipython3",
   "version": "3.11.3"
  }
 },
 "nbformat": 4,
 "nbformat_minor": 5
}
