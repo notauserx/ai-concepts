{
 "cells": [
  {
   "cell_type": "code",
   "execution_count": 1,
   "id": "eb07a932",
   "metadata": {},
   "outputs": [
    {
     "name": "stdout",
     "output_type": "stream",
     "text": [
      "[0.9968177]\n"
     ]
    }
   ],
   "source": [
    "from numpy import exp, array, random, dot\n",
    "\n",
    "#Set up parameters ===============================================\n",
    "inputs = array([[0, 0], [1, 1], [1, 0], [0, 1]])\n",
    "outputs = array([[0, 1, 1, 1]]).T\n",
    "random.seed(1)\n",
    "\n",
    "weights = 2 * random.random((2, 1)) -1\n",
    "\n",
    "#Define a Single Neuron function =================================\n",
    "def neuron(inputs, weights):\n",
    "    output = 1 / (1 + exp(-(dot(inputs, weights))))\n",
    "    return output\n",
    "\n",
    "#Train the Neuron ================================================\n",
    "for iteration in range(50000):\n",
    "    output = 1 / (1 + exp(-(dot(inputs, weights))))\n",
    "    weights += dot(inputs.T, (outputs -output) * output * (1 -output))\n",
    "#Test the Neuron =================================================\n",
    "\n",
    "x = array([1, 0])\n",
    "print (neuron (x,weights))"
   ]
  },
  {
   "cell_type": "code",
   "execution_count": null,
   "id": "6cb4b79f",
   "metadata": {},
   "outputs": [],
   "source": []
  }
 ],
 "metadata": {
  "kernelspec": {
   "display_name": "Python 3 (ipykernel)",
   "language": "python",
   "name": "python3"
  },
  "language_info": {
   "codemirror_mode": {
    "name": "ipython",
    "version": 3
   },
   "file_extension": ".py",
   "mimetype": "text/x-python",
   "name": "python",
   "nbconvert_exporter": "python",
   "pygments_lexer": "ipython3",
   "version": "3.11.3"
  }
 },
 "nbformat": 4,
 "nbformat_minor": 5
}
